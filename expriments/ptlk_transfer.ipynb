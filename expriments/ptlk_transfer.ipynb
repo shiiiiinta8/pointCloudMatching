{
 "cells": [
  {
   "cell_type": "code",
   "execution_count": 1,
   "metadata": {},
   "outputs": [
    {
     "name": "stdout",
     "output_type": "stream",
     "text": [
      "Jupyter environment detected. Enabling Open3D WebVisualizer.\n",
      "[Open3D INFO] WebRTC GUI backend enabled.\n",
      "[Open3D INFO] WebRTCWindowSystem: HTTP handshake server disabled.\n"
     ]
    }
   ],
   "source": [
    "import torch\n",
    "import torch.nn as nn\n",
    "import os\n",
    "import sys\n",
    "from pathlib import Path\n",
    "\n",
    "# addpath('../')\n",
    "sys.path.append(os.path.join(Path().resolve(), '../')) # add parent directory to path\n",
    "import ptlk"
   ]
  },
  {
   "cell_type": "code",
   "execution_count": 2,
   "metadata": {},
   "outputs": [
    {
     "name": "stdout",
     "output_type": "stream",
     "text": [
      "True\n"
     ]
    }
   ],
   "source": [
    "print(torch.cuda.is_available())"
   ]
  },
  {
   "cell_type": "code",
   "execution_count": 8,
   "metadata": {},
   "outputs": [],
   "source": [
    "ptnet = ptlk.pointnet.PointNet_features()\n",
    "base_model = ptlk.pointlk.PointLK(ptnet=ptnet)"
   ]
  },
  {
   "cell_type": "code",
   "execution_count": 9,
   "metadata": {},
   "outputs": [
    {
     "data": {
      "text/plain": [
       "<All keys matched successfully>"
      ]
     },
     "execution_count": 9,
     "metadata": {},
     "output_type": "execute_result"
    }
   ],
   "source": [
    "# 事前学習済みの重みを読み込む\n",
    "load_path = './results/ex1/ex1_pointlk_1122_model_best.pth'\n",
    "load_weights = torch.load(load_path)\n",
    "base_model.load_state_dict(load_weights)"
   ]
  },
  {
   "cell_type": "code",
   "execution_count": 11,
   "metadata": {},
   "outputs": [
    {
     "data": {
      "text/plain": [
       "PointLK(\n",
       "  (ptnet): PointNet_features(\n",
       "    (h1): Sequential(\n",
       "      (0): Conv1d(3, 64, kernel_size=(1,), stride=(1,))\n",
       "      (1): BatchNorm1d(64, eps=1e-05, momentum=0.1, affine=True, track_running_stats=True)\n",
       "      (2): ReLU()\n",
       "      (3): Conv1d(64, 64, kernel_size=(1,), stride=(1,))\n",
       "      (4): BatchNorm1d(64, eps=1e-05, momentum=0.1, affine=True, track_running_stats=True)\n",
       "      (5): ReLU()\n",
       "    )\n",
       "    (h2): Sequential(\n",
       "      (0): Conv1d(64, 64, kernel_size=(1,), stride=(1,))\n",
       "      (1): BatchNorm1d(64, eps=1e-05, momentum=0.1, affine=True, track_running_stats=True)\n",
       "      (2): ReLU()\n",
       "      (3): Conv1d(64, 128, kernel_size=(1,), stride=(1,))\n",
       "      (4): BatchNorm1d(128, eps=1e-05, momentum=0.1, affine=True, track_running_stats=True)\n",
       "      (5): ReLU()\n",
       "      (6): Conv1d(128, 1024, kernel_size=(1,), stride=(1,))\n",
       "      (7): BatchNorm1d(1024, eps=1e-05, momentum=0.1, affine=True, track_running_stats=True)\n",
       "      (8): ReLU()\n",
       "    )\n",
       "  )\n",
       ")"
      ]
     },
     "execution_count": 11,
     "metadata": {},
     "output_type": "execute_result"
    }
   ],
   "source": [
    "base_model"
   ]
  },
  {
   "cell_type": "code",
   "execution_count": 12,
   "metadata": {},
   "outputs": [],
   "source": [
    "import open3d as o3d\n",
    "\n",
    "point_cloud = o3d.io.read_point_cloud('./dataset/PointCloudSet/chair/test/chair1593.ply')"
   ]
  },
  {
   "cell_type": "code",
   "execution_count": 14,
   "metadata": {},
   "outputs": [
    {
     "ename": "TypeError",
     "evalue": "forward() missing 1 required positional argument: 'p1'",
     "output_type": "error",
     "traceback": [
      "\u001b[1;31m---------------------------------------------------------------------------\u001b[0m",
      "\u001b[1;31mTypeError\u001b[0m                                 Traceback (most recent call last)",
      "\u001b[1;32mc:\\Users\\furukawa\\study\\research\\pointCloudMatching\\expriments\\ptlk_transfer.ipynb セル 7\u001b[0m line \u001b[0;36m3\n\u001b[0;32m      <a href='vscode-notebook-cell:/c%3A/Users/furukawa/study/research/pointCloudMatching/expriments/ptlk_transfer.ipynb#X13sZmlsZQ%3D%3D?line=0'>1</a>\u001b[0m base_model\u001b[39m.\u001b[39meval()\n\u001b[0;32m      <a href='vscode-notebook-cell:/c%3A/Users/furukawa/study/research/pointCloudMatching/expriments/ptlk_transfer.ipynb#X13sZmlsZQ%3D%3D?line=1'>2</a>\u001b[0m \u001b[39mwith\u001b[39;00m torch\u001b[39m.\u001b[39mno_grad():\n\u001b[1;32m----> <a href='vscode-notebook-cell:/c%3A/Users/furukawa/study/research/pointCloudMatching/expriments/ptlk_transfer.ipynb#X13sZmlsZQ%3D%3D?line=2'>3</a>\u001b[0m     pred \u001b[39m=\u001b[39m base_model(point_cloud)\n",
      "File \u001b[1;32mc:\\Users\\furukawa\\anaconda3\\envs\\Deeplearning\\lib\\site-packages\\torch\\nn\\modules\\module.py:1130\u001b[0m, in \u001b[0;36mModule._call_impl\u001b[1;34m(self, *input, **kwargs)\u001b[0m\n\u001b[0;32m   1126\u001b[0m \u001b[39m# If we don't have any hooks, we want to skip the rest of the logic in\u001b[39;00m\n\u001b[0;32m   1127\u001b[0m \u001b[39m# this function, and just call forward.\u001b[39;00m\n\u001b[0;32m   1128\u001b[0m \u001b[39mif\u001b[39;00m \u001b[39mnot\u001b[39;00m (\u001b[39mself\u001b[39m\u001b[39m.\u001b[39m_backward_hooks \u001b[39mor\u001b[39;00m \u001b[39mself\u001b[39m\u001b[39m.\u001b[39m_forward_hooks \u001b[39mor\u001b[39;00m \u001b[39mself\u001b[39m\u001b[39m.\u001b[39m_forward_pre_hooks \u001b[39mor\u001b[39;00m _global_backward_hooks\n\u001b[0;32m   1129\u001b[0m         \u001b[39mor\u001b[39;00m _global_forward_hooks \u001b[39mor\u001b[39;00m _global_forward_pre_hooks):\n\u001b[1;32m-> 1130\u001b[0m     \u001b[39mreturn\u001b[39;00m forward_call(\u001b[39m*\u001b[39m\u001b[39minput\u001b[39m, \u001b[39m*\u001b[39m\u001b[39m*\u001b[39mkwargs)\n\u001b[0;32m   1131\u001b[0m \u001b[39m# Do not call functions when jit is used\u001b[39;00m\n\u001b[0;32m   1132\u001b[0m full_backward_hooks, non_full_backward_hooks \u001b[39m=\u001b[39m [], []\n",
      "\u001b[1;31mTypeError\u001b[0m: forward() missing 1 required positional argument: 'p1'"
     ]
    }
   ],
   "source": [
    "base_model.eval()\n",
    "with torch.no_grad():\n",
    "    pred = base_model(point_cloud)"
   ]
  },
  {
   "cell_type": "code",
   "execution_count": 8,
   "metadata": {},
   "outputs": [
    {
     "ename": "NameError",
     "evalue": "name 'testset' is not defined",
     "output_type": "error",
     "traceback": [
      "\u001b[1;31m---------------------------------------------------------------------------\u001b[0m",
      "\u001b[1;31mNameError\u001b[0m                                 Traceback (most recent call last)",
      "\u001b[1;32mc:\\prog\\pointCloudMatching\\expriments\\ptlk_transfer.ipynb セル 7\u001b[0m line \u001b[0;36m3\n\u001b[0;32m      <a href='vscode-notebook-cell:/c%3A/prog/pointCloudMatching/expriments/ptlk_transfer.ipynb#X11sZmlsZQ%3D%3D?line=0'>1</a>\u001b[0m \u001b[39m# dataloader\u001b[39;00m\n\u001b[0;32m      <a href='vscode-notebook-cell:/c%3A/prog/pointCloudMatching/expriments/ptlk_transfer.ipynb#X11sZmlsZQ%3D%3D?line=1'>2</a>\u001b[0m testloader \u001b[39m=\u001b[39m torch\u001b[39m.\u001b[39mutils\u001b[39m.\u001b[39mdata\u001b[39m.\u001b[39mDataLoader(\n\u001b[1;32m----> <a href='vscode-notebook-cell:/c%3A/prog/pointCloudMatching/expriments/ptlk_transfer.ipynb#X11sZmlsZQ%3D%3D?line=2'>3</a>\u001b[0m     testset,\n\u001b[0;32m      <a href='vscode-notebook-cell:/c%3A/prog/pointCloudMatching/expriments/ptlk_transfer.ipynb#X11sZmlsZQ%3D%3D?line=3'>4</a>\u001b[0m     batch_size\u001b[39m=\u001b[39m\u001b[39m1\u001b[39m, shuffle\u001b[39m=\u001b[39m\u001b[39mFalse\u001b[39;00m)\n\u001b[0;32m      <a href='vscode-notebook-cell:/c%3A/prog/pointCloudMatching/expriments/ptlk_transfer.ipynb#X11sZmlsZQ%3D%3D?line=5'>6</a>\u001b[0m \u001b[39m# カスタムヘッドの追加\u001b[39;00m\n\u001b[0;32m      <a href='vscode-notebook-cell:/c%3A/prog/pointCloudMatching/expriments/ptlk_transfer.ipynb#X11sZmlsZQ%3D%3D?line=6'>7</a>\u001b[0m custom_head \u001b[39m=\u001b[39m nn\u001b[39m.\u001b[39mSequential(\n\u001b[0;32m      <a href='vscode-notebook-cell:/c%3A/prog/pointCloudMatching/expriments/ptlk_transfer.ipynb#X11sZmlsZQ%3D%3D?line=7'>8</a>\u001b[0m     nn\u001b[39m.\u001b[39mLinear(in_features, out_features),  \u001b[39m# カスタムヘッドのアーキテクチャを設計\u001b[39;00m\n\u001b[0;32m      <a href='vscode-notebook-cell:/c%3A/prog/pointCloudMatching/expriments/ptlk_transfer.ipynb#X11sZmlsZQ%3D%3D?line=8'>9</a>\u001b[0m     nn\u001b[39m.\u001b[39mReLU(),\n\u001b[0;32m     <a href='vscode-notebook-cell:/c%3A/prog/pointCloudMatching/expriments/ptlk_transfer.ipynb#X11sZmlsZQ%3D%3D?line=9'>10</a>\u001b[0m     nn\u001b[39m.\u001b[39mLinear(out_features, num_classes)  \u001b[39m# 分類の数に合わせた出力層\u001b[39;00m\n\u001b[0;32m     <a href='vscode-notebook-cell:/c%3A/prog/pointCloudMatching/expriments/ptlk_transfer.ipynb#X11sZmlsZQ%3D%3D?line=10'>11</a>\u001b[0m )\n",
      "\u001b[1;31mNameError\u001b[0m: name 'testset' is not defined"
     ]
    }
   ],
   "source": [
    "# dataloader\n",
    "testloader = torch.utils.data.DataLoader(\n",
    "    testset,\n",
    "    batch_size=1, shuffle=False)\n",
    "\n",
    "# カスタムヘッドの追加\n",
    "custom_head = nn.Sequential(\n",
    "    nn.Linear(in_features, out_features),  # カスタムヘッドのアーキテクチャを設計\n",
    "    nn.ReLU(),\n",
    "    nn.Linear(out_features, num_classes)  # 分類の数に合わせた出力層\n",
    ")\n",
    "\n",
    "# 新しいモデルを構築\n",
    "model = nn.Sequential(\n",
    "    base_model,\n",
    "    custom_head\n",
    ")\n",
    "\n",
    "learning_rate = 1e-3\n",
    "\n",
    "# カスタムヘッドのパラメータのみをトレーニング\n",
    "optimizer = torch.optim.SGD(custom_head.parameters(), lr=learning_rate)\n",
    "criterion = nn.CrossEntropyLoss()\n",
    "\n",
    "num_epochs = 10\n",
    "\n",
    "# データセットを使用してモデルをトレーニング\n",
    "for epoch in range(num_epochs):\n",
    "    for batch_idx, (data, targets) in enumerate(train_loader):\n",
    "        # データをモデルに渡す\n",
    "        scores = model(data)\n",
    "        loss = criterion(scores, targets)\n",
    "\n",
    "        # バックプロパゲーションとパラメータの更新\n",
    "        optimizer.zero_grad()\n",
    "        loss.backward()\n",
    "        optimizer.step()\n",
    "\n",
    "# モデルを保存\n",
    "torch.save(model.state_dict(), 'my_model.pth')"
   ]
  },
  {
   "cell_type": "code",
   "execution_count": null,
   "metadata": {},
   "outputs": [],
   "source": []
  }
 ],
 "metadata": {
  "kernelspec": {
   "display_name": "Python 3",
   "language": "python",
   "name": "python3"
  },
  "language_info": {
   "codemirror_mode": {
    "name": "ipython",
    "version": 3
   },
   "file_extension": ".py",
   "mimetype": "text/x-python",
   "name": "python",
   "nbconvert_exporter": "python",
   "pygments_lexer": "ipython3",
   "version": "3.9.15"
  }
 },
 "nbformat": 4,
 "nbformat_minor": 2
}

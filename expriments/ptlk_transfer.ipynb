{
 "cells": [
  {
   "cell_type": "code",
   "execution_count": 1,
   "metadata": {},
   "outputs": [
    {
     "name": "stdout",
     "output_type": "stream",
     "text": [
      "Jupyter environment detected. Enabling Open3D WebVisualizer.\n",
      "[Open3D INFO] WebRTC GUI backend enabled.\n",
      "[Open3D INFO] WebRTCWindowSystem: HTTP handshake server disabled.\n"
     ]
    }
   ],
   "source": [
    "import torch\n",
    "import torch.nn as nn\n",
    "import os\n",
    "import sys\n",
    "from pathlib import Path\n",
    "\n",
    "# addpath('../')\n",
    "sys.path.append(os.path.join(Path().resolve(), '../')) # add parent directory to path\n",
    "import ptlk"
   ]
  },
  {
   "cell_type": "code",
   "execution_count": 2,
   "metadata": {},
   "outputs": [
    {
     "name": "stdout",
     "output_type": "stream",
     "text": [
      "True\n"
     ]
    }
   ],
   "source": [
    "print(torch.cuda.is_available())"
   ]
  },
  {
   "cell_type": "code",
   "execution_count": 3,
   "metadata": {},
   "outputs": [
    {
     "name": "stdout",
     "output_type": "stream",
     "text": [
      "odict_keys(['dt', 'ptnet.h1.0.weight', 'ptnet.h1.0.bias', 'ptnet.h1.1.weight', 'ptnet.h1.1.bias', 'ptnet.h1.1.running_mean', 'ptnet.h1.1.running_var', 'ptnet.h1.1.num_batches_tracked', 'ptnet.h1.3.weight', 'ptnet.h1.3.bias', 'ptnet.h1.4.weight', 'ptnet.h1.4.bias', 'ptnet.h1.4.running_mean', 'ptnet.h1.4.running_var', 'ptnet.h1.4.num_batches_tracked', 'ptnet.h2.0.weight', 'ptnet.h2.0.bias', 'ptnet.h2.1.weight', 'ptnet.h2.1.bias', 'ptnet.h2.1.running_mean', 'ptnet.h2.1.running_var', 'ptnet.h2.1.num_batches_tracked', 'ptnet.h2.3.weight', 'ptnet.h2.3.bias', 'ptnet.h2.4.weight', 'ptnet.h2.4.bias', 'ptnet.h2.4.running_mean', 'ptnet.h2.4.running_var', 'ptnet.h2.4.num_batches_tracked', 'ptnet.h2.6.weight', 'ptnet.h2.6.bias', 'ptnet.h2.7.weight', 'ptnet.h2.7.bias', 'ptnet.h2.7.running_mean', 'ptnet.h2.7.running_var', 'ptnet.h2.7.num_batches_tracked'])\n"
     ]
    }
   ],
   "source": [
    "load_path = './model/ex1_pointlk_1030_model_best.pth'\n",
    "load_weights = torch.load(load_path)\n",
    "print(load_weights.keys())"
   ]
  },
  {
   "cell_type": "code",
   "execution_count": 4,
   "metadata": {},
   "outputs": [
    {
     "data": {
      "text/plain": [
       "tensor([1.0894, 1.0228, 1.0139,  ..., 1.0908, 0.9976, 0.9806])"
      ]
     },
     "execution_count": 4,
     "metadata": {},
     "output_type": "execute_result"
    }
   ],
   "source": [
    "load_weights['ptnet.h2.7.weight']"
   ]
  },
  {
   "cell_type": "code",
   "execution_count": 5,
   "metadata": {},
   "outputs": [],
   "source": [
    "ptnet = ptlk.pointnet.PointNet_features()\n",
    "base_model = ptlk.pointlk.PointLK(ptnet=ptnet)"
   ]
  },
  {
   "cell_type": "code",
   "execution_count": 6,
   "metadata": {},
   "outputs": [
    {
     "data": {
      "text/plain": [
       "<All keys matched successfully>"
      ]
     },
     "execution_count": 6,
     "metadata": {},
     "output_type": "execute_result"
    }
   ],
   "source": [
    "# 事前学習済みの重みを読み込む\n",
    "load_path = './model/ex1_pointlk_1030_model_best.pth'\n",
    "load_weights = torch.load(load_path)\n",
    "base_model.load_state_dict(load_weights)"
   ]
  },
  {
   "cell_type": "code",
   "execution_count": 8,
   "metadata": {},
   "outputs": [
    {
     "ename": "NameError",
     "evalue": "name 'testset' is not defined",
     "output_type": "error",
     "traceback": [
      "\u001b[1;31m---------------------------------------------------------------------------\u001b[0m",
      "\u001b[1;31mNameError\u001b[0m                                 Traceback (most recent call last)",
      "\u001b[1;32mc:\\prog\\pointCloudMatching\\expriments\\ptlk_transfer.ipynb セル 7\u001b[0m line \u001b[0;36m3\n\u001b[0;32m      <a href='vscode-notebook-cell:/c%3A/prog/pointCloudMatching/expriments/ptlk_transfer.ipynb#X11sZmlsZQ%3D%3D?line=0'>1</a>\u001b[0m \u001b[39m# dataloader\u001b[39;00m\n\u001b[0;32m      <a href='vscode-notebook-cell:/c%3A/prog/pointCloudMatching/expriments/ptlk_transfer.ipynb#X11sZmlsZQ%3D%3D?line=1'>2</a>\u001b[0m testloader \u001b[39m=\u001b[39m torch\u001b[39m.\u001b[39mutils\u001b[39m.\u001b[39mdata\u001b[39m.\u001b[39mDataLoader(\n\u001b[1;32m----> <a href='vscode-notebook-cell:/c%3A/prog/pointCloudMatching/expriments/ptlk_transfer.ipynb#X11sZmlsZQ%3D%3D?line=2'>3</a>\u001b[0m     testset,\n\u001b[0;32m      <a href='vscode-notebook-cell:/c%3A/prog/pointCloudMatching/expriments/ptlk_transfer.ipynb#X11sZmlsZQ%3D%3D?line=3'>4</a>\u001b[0m     batch_size\u001b[39m=\u001b[39m\u001b[39m1\u001b[39m, shuffle\u001b[39m=\u001b[39m\u001b[39mFalse\u001b[39;00m)\n\u001b[0;32m      <a href='vscode-notebook-cell:/c%3A/prog/pointCloudMatching/expriments/ptlk_transfer.ipynb#X11sZmlsZQ%3D%3D?line=5'>6</a>\u001b[0m \u001b[39m# カスタムヘッドの追加\u001b[39;00m\n\u001b[0;32m      <a href='vscode-notebook-cell:/c%3A/prog/pointCloudMatching/expriments/ptlk_transfer.ipynb#X11sZmlsZQ%3D%3D?line=6'>7</a>\u001b[0m custom_head \u001b[39m=\u001b[39m nn\u001b[39m.\u001b[39mSequential(\n\u001b[0;32m      <a href='vscode-notebook-cell:/c%3A/prog/pointCloudMatching/expriments/ptlk_transfer.ipynb#X11sZmlsZQ%3D%3D?line=7'>8</a>\u001b[0m     nn\u001b[39m.\u001b[39mLinear(in_features, out_features),  \u001b[39m# カスタムヘッドのアーキテクチャを設計\u001b[39;00m\n\u001b[0;32m      <a href='vscode-notebook-cell:/c%3A/prog/pointCloudMatching/expriments/ptlk_transfer.ipynb#X11sZmlsZQ%3D%3D?line=8'>9</a>\u001b[0m     nn\u001b[39m.\u001b[39mReLU(),\n\u001b[0;32m     <a href='vscode-notebook-cell:/c%3A/prog/pointCloudMatching/expriments/ptlk_transfer.ipynb#X11sZmlsZQ%3D%3D?line=9'>10</a>\u001b[0m     nn\u001b[39m.\u001b[39mLinear(out_features, num_classes)  \u001b[39m# 分類の数に合わせた出力層\u001b[39;00m\n\u001b[0;32m     <a href='vscode-notebook-cell:/c%3A/prog/pointCloudMatching/expriments/ptlk_transfer.ipynb#X11sZmlsZQ%3D%3D?line=10'>11</a>\u001b[0m )\n",
      "\u001b[1;31mNameError\u001b[0m: name 'testset' is not defined"
     ]
    }
   ],
   "source": [
    "# dataloader\n",
    "testloader = torch.utils.data.DataLoader(\n",
    "    testset,\n",
    "    batch_size=1, shuffle=False)\n",
    "\n",
    "# カスタムヘッドの追加\n",
    "custom_head = nn.Sequential(\n",
    "    nn.Linear(in_features, out_features),  # カスタムヘッドのアーキテクチャを設計\n",
    "    nn.ReLU(),\n",
    "    nn.Linear(out_features, num_classes)  # 分類の数に合わせた出力層\n",
    ")\n",
    "\n",
    "# 新しいモデルを構築\n",
    "model = nn.Sequential(\n",
    "    base_model,\n",
    "    custom_head\n",
    ")\n",
    "\n",
    "learning_rate = 1e-3\n",
    "\n",
    "# カスタムヘッドのパラメータのみをトレーニング\n",
    "optimizer = torch.optim.SGD(custom_head.parameters(), lr=learning_rate)\n",
    "criterion = nn.CrossEntropyLoss()\n",
    "\n",
    "num_epochs = 10\n",
    "\n",
    "# データセットを使用してモデルをトレーニング\n",
    "for epoch in range(num_epochs):\n",
    "    for batch_idx, (data, targets) in enumerate(train_loader):\n",
    "        # データをモデルに渡す\n",
    "        scores = model(data)\n",
    "        loss = criterion(scores, targets)\n",
    "\n",
    "        # バックプロパゲーションとパラメータの更新\n",
    "        optimizer.zero_grad()\n",
    "        loss.backward()\n",
    "        optimizer.step()\n",
    "\n",
    "# モデルを保存\n",
    "torch.save(model.state_dict(), 'my_model.pth')"
   ]
  },
  {
   "cell_type": "code",
   "execution_count": null,
   "metadata": {},
   "outputs": [],
   "source": []
  }
 ],
 "metadata": {
  "kernelspec": {
   "display_name": "Python 3",
   "language": "python",
   "name": "python3"
  },
  "language_info": {
   "codemirror_mode": {
    "name": "ipython",
    "version": 3
   },
   "file_extension": ".py",
   "mimetype": "text/x-python",
   "name": "python",
   "nbconvert_exporter": "python",
   "pygments_lexer": "ipython3",
   "version": "3.9.18"
  }
 },
 "nbformat": 4,
 "nbformat_minor": 2
}

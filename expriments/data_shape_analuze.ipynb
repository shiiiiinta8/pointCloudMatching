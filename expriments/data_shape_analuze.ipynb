{
 "cells": [
  {
   "cell_type": "code",
   "execution_count": 1,
   "metadata": {},
   "outputs": [
    {
     "name": "stdout",
     "output_type": "stream",
     "text": [
      "Jupyter environment detected. Enabling Open3D WebVisualizer.\n",
      "[Open3D INFO] WebRTC GUI backend enabled.\n",
      "[Open3D INFO] WebRTCWindowSystem: HTTP handshake server disabled.\n"
     ]
    }
   ],
   "source": [
    "import argparse\n",
    "import os\n",
    "import sys\n",
    "import logging\n",
    "import numpy\n",
    "from pathlib import Path\n",
    "import torch\n",
    "import torch.utils.data\n",
    "import torchvision\n",
    "\n",
    "sys.path.append(os.path.join(Path().resolve(), '../')) # add parent directory to path\n",
    "import ptlk"
   ]
  },
  {
   "cell_type": "code",
   "execution_count": 2,
   "metadata": {},
   "outputs": [],
   "source": [
    "def options(outfile, dataset_path, categoryfile, dataset_type='modelnet', num_points=1024, mag=0.8,\n",
    "            pointnet='tune', transfer_from='', dim_k=1024, symfn='max', max_iter=10, delta=1.0e-2,\n",
    "            learn_delta=False, logfile='', workers=4, batch_size=32, epochs=200, start_epoch=0,\n",
    "            optimizer='Adam', resume='', pretrained='', device='cuda:0'):\n",
    "\n",
    "    args = argparse.Namespace(\n",
    "        outfile=outfile,\n",
    "        dataset_path=dataset_path,\n",
    "        categoryfile=categoryfile,\n",
    "        dataset_type=dataset_type,\n",
    "        num_points=num_points,\n",
    "        mag=mag,\n",
    "        pointnet=pointnet,\n",
    "        transfer_from=transfer_from,\n",
    "        dim_k=dim_k,\n",
    "        symfn=symfn,\n",
    "        max_iter=max_iter,\n",
    "        delta=delta,\n",
    "        learn_delta=learn_delta,\n",
    "        logfile=logfile,\n",
    "        workers=workers,\n",
    "        batch_size=batch_size,\n",
    "        epochs=epochs,\n",
    "        start_epoch=start_epoch,\n",
    "        optimizer=optimizer,\n",
    "        resume=resume,\n",
    "        pretrained=pretrained,\n",
    "        device=device\n",
    "    )\n",
    "\n",
    "    return args"
   ]
  },
  {
   "cell_type": "code",
   "execution_count": 3,
   "metadata": {},
   "outputs": [],
   "source": [
    "args = options(outfile='results/ex_pointlk_1110',\n",
    "               dataset_path='./dataset/PointCloudSet',\n",
    "               categoryfile='./sampledata/pointcloud_half.txt',\n",
    "               dataset_type='pointcloud',\n",
    "               logfile='results/ex_pointlk_1110.log')\n"
   ]
  },
  {
   "cell_type": "code",
   "execution_count": 4,
   "metadata": {},
   "outputs": [],
   "source": [
    "def get_datasets(args):\n",
    "\n",
    "    cinfo = None\n",
    "    if args.categoryfile:\n",
    "        #categories = numpy.loadtxt(args.categoryfile, dtype=str, delimiter=\"\\n\").tolist()\n",
    "        categories = [line.rstrip('\\n') for line in open(args.categoryfile)]\n",
    "        categories.sort()\n",
    "        c_to_idx = {categories[i]: i for i in range(len(categories))}\n",
    "        cinfo = (categories, c_to_idx)\n",
    "\n",
    "    if args.dataset_type == 'modelnet':\n",
    "        transform = torchvision.transforms.Compose([\\\n",
    "                ptlk.data.transforms.Mesh2Points(),\\\n",
    "                ptlk.data.transforms.OnUnitCube(),\\\n",
    "                ptlk.data.transforms.Resampler(args.num_points),\\\n",
    "            ])\n",
    "\n",
    "        traindata = ptlk.data.datasets.ModelNet(args.dataset_path, train=1, transform=transform, classinfo=cinfo)\n",
    "        testdata = ptlk.data.datasets.ModelNet(args.dataset_path, train=0, transform=transform, classinfo=cinfo)\n",
    "\n",
    "        mag_randomly = True\n",
    "        trainset = ptlk.data.datasets.CADset4tracking(traindata,\\\n",
    "                        ptlk.data.transforms.RandomTransformSE3(args.mag, mag_randomly))\n",
    "        testset = ptlk.data.datasets.CADset4tracking(testdata,\\\n",
    "                        ptlk.data.transforms.RandomTransformSE3(args.mag, mag_randomly))\n",
    "        \n",
    "    elif args.dataset_type == 'pointcloud':\n",
    "        transform = torchvision.transforms.Compose([\\\n",
    "                    ptlk.data.transforms.OnUnitCube(),\\\n",
    "                    ptlk.data.transforms.Resampler(args.num_points),\\\n",
    "                    ])\n",
    "\n",
    "        traindata = ptlk.data.datasets.PointCloud(args.dataset_path, train=1, transform=transform, classinfo=cinfo)\n",
    "        testdata = ptlk.data.datasets.PointCloud(args.dataset_path, train=0, transform=transform, classinfo=cinfo)\n",
    "\n",
    "        mag_randomly = True\n",
    "        trainset = ptlk.data.datasets.CADset4tracking(traindata,\\\n",
    "                        ptlk.data.transforms.RandomTransformSE3(args.mag, mag_randomly))\n",
    "        testset = ptlk.data.datasets.CADset4tracking(testdata,\\\n",
    "                        ptlk.data.transforms.RandomTransformSE3(args.mag, mag_randomly))\n",
    "\n",
    "\n",
    "    return trainset, testset"
   ]
  },
  {
   "cell_type": "code",
   "execution_count": 5,
   "metadata": {},
   "outputs": [],
   "source": [
    "trainset, testset = get_datasets(args)"
   ]
  },
  {
   "cell_type": "code",
   "execution_count": 6,
   "metadata": {},
   "outputs": [
    {
     "data": {
      "text/plain": [
       "5"
      ]
     },
     "execution_count": 6,
     "metadata": {},
     "output_type": "execute_result"
    }
   ],
   "source": [
    "len(testset)"
   ]
  },
  {
   "cell_type": "code",
   "execution_count": 7,
   "metadata": {},
   "outputs": [],
   "source": [
    "# dataloader\n",
    "testloader = torch.utils.data.DataLoader(\n",
    "    testset,\n",
    "    batch_size=args.batch_size, shuffle=False, num_workers=args.workers)\n",
    "trainloader = torch.utils.data.DataLoader(\n",
    "    trainset,\n",
    "    batch_size=args.batch_size, shuffle=True, num_workers=args.workers)"
   ]
  },
  {
   "cell_type": "code",
   "execution_count": 13,
   "metadata": {},
   "outputs": [
    {
     "data": {
      "text/plain": [
       "<torch.utils.data.dataloader.DataLoader at 0x171dc6d6040>"
      ]
     },
     "execution_count": 13,
     "metadata": {},
     "output_type": "execute_result"
    }
   ],
   "source": [
    "testloader"
   ]
  }
 ],
 "metadata": {
  "kernelspec": {
   "display_name": "deeplearning",
   "language": "python",
   "name": "python3"
  },
  "language_info": {
   "codemirror_mode": {
    "name": "ipython",
    "version": 3
   },
   "file_extension": ".py",
   "mimetype": "text/x-python",
   "name": "python",
   "nbconvert_exporter": "python",
   "pygments_lexer": "ipython3",
   "version": "3.9.18"
  }
 },
 "nbformat": 4,
 "nbformat_minor": 2
}

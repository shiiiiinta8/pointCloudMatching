{
 "cells": [
  {
   "cell_type": "code",
   "execution_count": 1,
   "metadata": {},
   "outputs": [
    {
     "name": "stdout",
     "output_type": "stream",
     "text": [
      "Jupyter environment detected. Enabling Open3D WebVisualizer.\n",
      "[Open3D INFO] WebRTC GUI backend enabled.\n",
      "[Open3D INFO] WebRTCWindowSystem: HTTP handshake server disabled.\n"
     ]
    }
   ],
   "source": [
    "import torch\n",
    "import torchvision\n",
    "import torch.nn as nn\n",
    "import os\n",
    "import sys\n",
    "import open3d as o3d\n",
    "from pathlib import Path\n",
    "\n",
    "# addpath('../')\n",
    "sys.path.append(os.path.join(Path().resolve(), '../')) # add parent directory to path\n",
    "import ptlk"
   ]
  },
  {
   "cell_type": "code",
   "execution_count": 4,
   "metadata": {},
   "outputs": [],
   "source": [
    "def get_datasets(args):\n",
    "\n",
    "    cinfo = None\n",
    "    if args.categoryfile:\n",
    "        #categories = numpy.loadtxt(args.categoryfile, dtype=str, delimiter=\"\\n\").tolist()\n",
    "        categories = [line.rstrip('\\n') for line in open(args.categoryfile)]\n",
    "        categories.sort()\n",
    "        c_to_idx = {categories[i]: i for i in range(len(categories))}\n",
    "        cinfo = (categories, c_to_idx)\n",
    "\n",
    "    transform = torchvision.transforms.Compose([\\\n",
    "            ptlk.data.transforms.Mesh2Points(),\\\n",
    "            ptlk.data.transforms.OnUnitCube(),\\\n",
    "            ptlk.data.transforms.Resampler(args.num_points),\\\n",
    "        ])\n",
    "\n",
    "    traindata = ptlk.data.datasets.ModelNet(args.dataset_path, train=1, transform=transform, classinfo=cinfo)\n",
    "    testdata = ptlk.data.datasets.ModelNet(args.dataset_path, train=0, transform=transform, classinfo=cinfo)\n",
    "\n",
    "    mag_randomly = True\n",
    "    trainset = ptlk.data.datasets.CADset4tracking(traindata,\\\n",
    "                    ptlk.data.transforms.RandomTransformSE3(args.mag, mag_randomly))\n",
    "    testset = ptlk.data.datasets.CADset4tracking(testdata,\\\n",
    "                    ptlk.data.transforms.RandomTransformSE3(args.mag, mag_randomly))\n",
    "\n",
    "\n",
    "    return trainset, testset"
   ]
  },
  {
   "cell_type": "code",
   "execution_count": 6,
   "metadata": {},
   "outputs": [
    {
     "ename": "AttributeError",
     "evalue": "'str' object has no attribute 'categoryfile'",
     "output_type": "error",
     "traceback": [
      "\u001b[1;31m---------------------------------------------------------------------------\u001b[0m",
      "\u001b[1;31mAttributeError\u001b[0m                            Traceback (most recent call last)",
      "\u001b[1;32mc:\\prog\\pointCloudMatching\\expriments\\read_modelnet40.ipynb セル 3\u001b[0m line \u001b[0;36m1\n\u001b[1;32m----> <a href='vscode-notebook-cell:/c%3A/prog/pointCloudMatching/expriments/read_modelnet40.ipynb#W2sZmlsZQ%3D%3D?line=0'>1</a>\u001b[0m get_datasets(\u001b[39m\"\u001b[39;49m\u001b[39mmodelnet\u001b[39;49m\u001b[39m\"\u001b[39;49m)\n",
      "\u001b[1;32mc:\\prog\\pointCloudMatching\\expriments\\read_modelnet40.ipynb セル 3\u001b[0m line \u001b[0;36m4\n\u001b[0;32m      <a href='vscode-notebook-cell:/c%3A/prog/pointCloudMatching/expriments/read_modelnet40.ipynb#W2sZmlsZQ%3D%3D?line=0'>1</a>\u001b[0m \u001b[39mdef\u001b[39;00m \u001b[39mget_datasets\u001b[39m(args):\n\u001b[0;32m      <a href='vscode-notebook-cell:/c%3A/prog/pointCloudMatching/expriments/read_modelnet40.ipynb#W2sZmlsZQ%3D%3D?line=2'>3</a>\u001b[0m     cinfo \u001b[39m=\u001b[39m \u001b[39mNone\u001b[39;00m\n\u001b[1;32m----> <a href='vscode-notebook-cell:/c%3A/prog/pointCloudMatching/expriments/read_modelnet40.ipynb#W2sZmlsZQ%3D%3D?line=3'>4</a>\u001b[0m     \u001b[39mif\u001b[39;00m args\u001b[39m.\u001b[39;49mcategoryfile:\n\u001b[0;32m      <a href='vscode-notebook-cell:/c%3A/prog/pointCloudMatching/expriments/read_modelnet40.ipynb#W2sZmlsZQ%3D%3D?line=4'>5</a>\u001b[0m         \u001b[39m#categories = numpy.loadtxt(args.categoryfile, dtype=str, delimiter=\"\\n\").tolist()\u001b[39;00m\n\u001b[0;32m      <a href='vscode-notebook-cell:/c%3A/prog/pointCloudMatching/expriments/read_modelnet40.ipynb#W2sZmlsZQ%3D%3D?line=5'>6</a>\u001b[0m         categories \u001b[39m=\u001b[39m [line\u001b[39m.\u001b[39mrstrip(\u001b[39m'\u001b[39m\u001b[39m\\n\u001b[39;00m\u001b[39m'\u001b[39m) \u001b[39mfor\u001b[39;00m line \u001b[39min\u001b[39;00m \u001b[39mopen\u001b[39m(args\u001b[39m.\u001b[39mcategoryfile)]\n\u001b[0;32m      <a href='vscode-notebook-cell:/c%3A/prog/pointCloudMatching/expriments/read_modelnet40.ipynb#W2sZmlsZQ%3D%3D?line=6'>7</a>\u001b[0m         categories\u001b[39m.\u001b[39msort()\n",
      "\u001b[1;31mAttributeError\u001b[0m: 'str' object has no attribute 'categoryfile'"
     ]
    }
   ],
   "source": [
    "get_datasets(\"modelnet\")"
   ]
  },
  {
   "cell_type": "code",
   "execution_count": null,
   "metadata": {},
   "outputs": [],
   "source": []
  }
 ],
 "metadata": {
  "kernelspec": {
   "display_name": "deeplearning",
   "language": "python",
   "name": "python3"
  },
  "language_info": {
   "codemirror_mode": {
    "name": "ipython",
    "version": 3
   },
   "file_extension": ".py",
   "mimetype": "text/x-python",
   "name": "python",
   "nbconvert_exporter": "python",
   "pygments_lexer": "ipython3",
   "version": "3.9.18"
  }
 },
 "nbformat": 4,
 "nbformat_minor": 2
}
